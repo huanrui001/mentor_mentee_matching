{
 "cells": [
  {
   "cell_type": "code",
   "execution_count": 294,
   "metadata": {},
   "outputs": [
    {
     "name": "stdout",
     "output_type": "stream",
     "text": [
      "imported!\n"
     ]
    }
   ],
   "source": [
    "import os,sys,math\n",
    "import re\n",
    "import pandas as pd\n",
    "import numpy as np\n",
    "import random\n",
    "print('imported!')"
   ]
  },
  {
   "cell_type": "code",
   "execution_count": 295,
   "metadata": {},
   "outputs": [
    {
     "data": {
      "text/plain": [
       "Index(['Timestamp', 'Your name', 'Your email address:',\n",
       "       '1. Please provide a brief bio of your background including your current job.',\n",
       "       '2. If you are currently employed, please provide the length of your work experiences. ',\n",
       "       '3. What is your level of education? ',\n",
       "       '3. a. I'm applying 2019 Mentoring Program as a',\n",
       "       '4. Why are you interested in our Mentoring Program? What do you want to get out of it?',\n",
       "       '5. Our mentors came from various industry backgrounds, please name the industry/industries that you are interested in learning more',\n",
       "       '6. Areas you hope to work on with your mentor and their importance. [Salary negotiation]',\n",
       "       '6. Areas you hope to work on with your mentor and their importance. [Résumé ]',\n",
       "       '6. Areas you hope to work on with your mentor and their importance. [Gender bias at work]',\n",
       "       '6. Areas you hope to work on with your mentor and their importance. [Dealing with conflicts]',\n",
       "       '6. Areas you hope to work on with your mentor and their importance. [Career transition]',\n",
       "       '6. Areas you hope to work on with your mentor and their importance. [Starting a business]',\n",
       "       '6. Areas you hope to work on with your mentor and their importance. [Branding/marketing]',\n",
       "       '6. Areas you hope to work on with your mentor and their importance. [Career/family balance]',\n",
       "       '6. a. Are there other career goals that were not listed above? Please describe.',\n",
       "       '7. Please tell us 3 personal goals you hope to accomplish from the Mentoring Program? ',\n",
       "       '8. What are you looking for from a mentor? ',\n",
       "       '9. It is the responsibility of the mentees to schedule and meet with the mentors once per month, online or in person. You will also be responsible for preparing your goals/actions/agenda items before the meetings. Will you be able to do so for the entire duration of the mentoring program (Jan 2020 - May 2020)? ',\n",
       "       '10. Mentees will be meeting the mentors either in person or online. The in-person meeting locations are either Cambridge or Boston near public transportation. Please indicate your location preference.',\n",
       "       '11. Any other information you feel is important to successfully match you to a mentor?',\n",
       "       '12. Have you participated at our previous Women Accelerators (formerly de la Femme) Mentoring Program? ',\n",
       "       '12. a. If you answer Yes to the above question, please provide the name of your mentor',\n",
       "       '13. Are there particular mentors you would like to pair with? Select as many as you'd like from the list below. (Due to the number of mentees, we will do our best to match you with a mentor of your choice, but this is not a guarantee.)  Learn more about our 2020 mentors here: http://womenaccelerators.org/mentoring-program/',\n",
       "       'Please review our Code of Conduct page @ https://womenaccelerators.org/code-of-conduct. You agree to our Code of Conduct. Please note that we will not consider your application if you do not agree. '],\n",
       "      dtype='object')"
      ]
     },
     "execution_count": 295,
     "metadata": {},
     "output_type": "execute_result"
    }
   ],
   "source": [
    "mentee_df = pd.read_csv('2020_mentee_application.csv')\n",
    "mentor_df = pd.read_csv('2020_mentor_application.csv')\n",
    "nmentees, ncol = mentee_df.shape\n",
    "nmentors, ncol = mentor_df.shape\n",
    "mentee_df.columns\n"
   ]
  },
  {
   "cell_type": "code",
   "execution_count": 296,
   "metadata": {},
   "outputs": [
    {
     "data": {
      "text/plain": [
       "Index(['Timestamp', 'Email Address', 'Your name',\n",
       "       '1. Please provide a brief bio of your background  and experiences ',\n",
       "       '2. Were you involved as a mentor in the past with Women Accelerators or currently involved with different organizations?  ',\n",
       "       '3. Why are you interested in our Mentoring Program? ',\n",
       "       '4. Please name the industry type that you are currently a part of',\n",
       "       '5. Areas you feel confident coaching our mentees. The answer should be on an 1 to 4 scale with 4 being very confident and 1 being not at all confident. [Salary negotiation]',\n",
       "       '5. Areas you feel confident coaching our mentees. The answer should be on an 1 to 4 scale with 4 being very confident and 1 being not at all confident. [Résumé/CV updates]',\n",
       "       '5. Areas you feel confident coaching our mentees. The answer should be on an 1 to 4 scale with 4 being very confident and 1 being not at all confident. [Gender bias at work]',\n",
       "       '5. Areas you feel confident coaching our mentees. The answer should be on an 1 to 4 scale with 4 being very confident and 1 being not at all confident. [Dealing with conflicts]',\n",
       "       '5. Areas you feel confident coaching our mentees. The answer should be on an 1 to 4 scale with 4 being very confident and 1 being not at all confident. [Career transition]',\n",
       "       '5. Areas you feel confident coaching our mentees. The answer should be on an 1 to 4 scale with 4 being very confident and 1 being not at all confident. [Starting a business]',\n",
       "       '5. Areas you feel confident coaching our mentees. The answer should be on an 1 to 4 scale with 4 being very confident and 1 being not at all confident. [Branding/marketing]',\n",
       "       '5. Areas you feel confident coaching our mentees. The answer should be on an 1 to 4 scale with 4 being very confident and 1 being not at all confident. [Career/family balance]',\n",
       "       '5.a. Your other expert area, that were not listed above? Please describe.',\n",
       "       '6. Please tell us 3 personal goals you can help the mentees attain ? ',\n",
       "       '6.a. Other personal goals you think are critical for our mentees to succeed in their career, that were not listed above',\n",
       "       '7. What are you looking for from a mentee? ',\n",
       "       '8. Are you willing to commit to our Mentoring Program for the entire 5 months? Your mentee will be responsible for scheduling meetings with the other mentees and preparing her goals/actions items before the meeting, etc.',\n",
       "       '9. Groups will be meeting in person or online. The in-person meeting locations are either Cambridge or Boston near public transportation. Please indicate your location preference.',\n",
       "       '10. Do you have a preference on the state of the career of your mentee(s)?',\n",
       "       '11. Any other information you feel is important to successfully match you to a mentee?'],\n",
       "      dtype='object')"
      ]
     },
     "execution_count": 296,
     "metadata": {},
     "output_type": "execute_result"
    }
   ],
   "source": [
    "mentor_df.columns"
   ]
  },
  {
   "cell_type": "code",
   "execution_count": 297,
   "metadata": {},
   "outputs": [
    {
     "name": "stdout",
     "output_type": "stream",
     "text": [
      "['ERIN BRENNER', 'Ryanne Boursiquot', 'Fernanda White', 'Massami Laird', 'Jiyeong (Jean) Chun', 'Lori Siedman', 'LUCIANA CALVIN', 'Cristina Watson', 'Lisa Scudder', 'Sandra Mohr', 'Masami Kelly', 'Debbi Mallinson', 'Nitya Durvasula', 'Yamin Htet', 'Yesim Mercan', 'Angie Greer', 'Rosemery Membreno', 'Alia Braley', 'Andrea Koenigsberg', 'Sanghamitra Mohanty-Banerjee', 'Dharmajyoti kothapalli', 'Rebecca Caira-Davila', 'HIROMI HIROYAMA', 'Tatiana Tompkins', 'Hannah Schindler', 'Autumn Minery ', 'Penelope Hamourgas', 'Patricia Tangney', 'Ann Marie Carmichael', 'Kristy Louie', 'Sophie Parker', 'TATIANA FESENKO', 'Anya Shapina', 'Mahsa Ershadi']\n",
      "['Dennis A Dean', 'Robin Rose', 'Susu Wong', 'Nidhi J. Maniar', 'Cindy Huang', 'Jeff Lou', 'Franky Descoteaux', 'Uma Staehler']\n"
     ]
    }
   ],
   "source": [
    "mentee_name_id = mentee_index_list[1]\n",
    "mentor_name_id = mentor_index_list[2]\n",
    "mentee_name_list = mentee_df[mentee_name_id].tolist()\n",
    "mentor_name_list = mentor_df[mentor_name_id].tolist()\n",
    "print(mentee_name_list)\n",
    "print(mentor_name_list)"
   ]
  },
  {
   "cell_type": "code",
   "execution_count": 298,
   "metadata": {},
   "outputs": [
    {
     "name": "stdout",
     "output_type": "stream",
     "text": [
      "(34, 8)\n",
      "[0. 0. 1. 0. 0. 1. 1. 0. 0. 0. 1. 1. 0. 1. 0. 0. 1. 0. 1. 0. 0. 0. 1. 1.\n",
      " 1. 0. 0. 0. 0. 0. 1. 0. 1. 0.]\n"
     ]
    }
   ],
   "source": [
    "mentee_index_list = mentee_df.columns.tolist()\n",
    "mentor_index_list = mentor_df.columns.tolist()\n",
    "\n",
    "\n",
    "## Work experience score, each pair has one score 0/1 \n",
    "## 0 - no match\n",
    "## 1 - match\n",
    "we_index = mentee_index_list[4]\n",
    "mentee_work_exp = mentee_df[we_index].tolist()\n",
    "we_index = mentor_index_list[-2]\n",
    "mentor_work_exp = mentor_df[we_index].tolist()\n",
    "\n",
    "we_scores_list = []\n",
    "for mentee_dat in mentee_work_exp:\n",
    "    for mentor_dat in mentor_work_exp:\n",
    "        score = 0\n",
    "        if (mentee_dat == '2-5 years' or mentee_dat == 'Less than 2 years' and \\\n",
    "            mentor_dat == 'Young and early-stage professionals - less than 5 years in the workfoce'):\n",
    "            score = 1\n",
    "        if (mentee_dat == '5-10 years' and mentor_dat == 'Mid-level professionals - 5-10 years in the workforce'):\n",
    "            score = 1\n",
    "        if (mentee_dat == 'More than 10 years' and \\\n",
    "            mentor_dat == 'Mature and senior level professionals - over 10 years in the workforce'):\n",
    "            score = 1\n",
    "        if (mentor_dat == 'No preference'):\n",
    "            score = 1\n",
    "        #print('%s,%s,%s' % (mentee_dat,mentor_dat,score))\n",
    "        we_scores_list.append(score)\n",
    "we_scores = np.array(we_scores_list,dtype=float).reshape(nmentees,nmentors)\n",
    "print(np.shape(we_scores))\n",
    "print(we_scores[:,3])"
   ]
  },
  {
   "cell_type": "code",
   "execution_count": 299,
   "metadata": {},
   "outputs": [
    {
     "name": "stdout",
     "output_type": "stream",
     "text": [
      "(34, 8)\n",
      "[0.         0.33333333 0.25       0.         0.5        0.\n",
      " 0.         0.25       0.25       0.         0.         0.\n",
      " 0.5        0.5        0.5        0.         0.         0.\n",
      " 0.         0.         0.         0.2        0.         0.\n",
      " 0.         0.         0.         0.         0.         0.\n",
      " 0.         0.         0.         0.        ]\n"
     ]
    }
   ],
   "source": [
    "#\n",
    "# Industry matching - score can be all the way from 0 - 1 \n",
    "# matched in mentee / all selected by mentee\n",
    "# \n",
    "ind_index = mentee_index_list[8]\n",
    "mentee_indus = mentee_df[ind_index].tolist()\n",
    "ind_index = mentor_index_list[6]\n",
    "mentor_indus = mentor_df[ind_index].tolist()\n",
    "\n",
    "ind_scores_list = []\n",
    "imentee = 0\n",
    "for mentee_dat in mentee_indus:\n",
    "    imentor = 0\n",
    "    for  mentor_dat in mentor_indus:\n",
    "        matched = 0\n",
    "        for mentee_item in mentee_dat.split(','):\n",
    "            mentee_item = mentee_item.strip()\n",
    "            for mentor_item in mentor_dat.split(','):\n",
    "                mentor_item = mentor_item.strip()\n",
    "                #print(\"%s,%s,  %s,%s\" % (mentee_name_list[imentee],mentee_item,mentor_name_list[imentor],mentor_item))\n",
    "                if mentee_item == mentor_item:\n",
    "                    matched += 1\n",
    "        tot_sele_mentee = len(mentee_dat.split(','))\n",
    "        score = float(matched)/tot_sele_mentee \n",
    "        #print('%s,%s,%s' % (mentee_name_list[imentee],mentor_name_list[imentor],score))\n",
    "        ind_scores_list.append(score)\n",
    "        imentor += 1\n",
    "    imentee += 1\n",
    "ind_scores = np.array(ind_scores_list,dtype=float).reshape(nmentees,nmentors)\n",
    "print(np.shape(ind_scores))\n",
    "print(ind_scores[:,3])"
   ]
  },
  {
   "cell_type": "code",
   "execution_count": 300,
   "metadata": {},
   "outputs": [
    {
     "name": "stdout",
     "output_type": "stream",
     "text": [
      "(34, 8)\n",
      "[0.583375 0.541625 0.62525  0.625    0.8335   0.45825  0.416625 0.583375\n",
      " 0.625    0.5835   0.750125 0.500125 0.79175  0.666875 0.708375 0.625\n",
      " 0.625125 0.625    0.750125 0.416625 0.583375 0.625125 0.750125 0.54175\n",
      " 0.708375 0.583375 0.499875 0.62525  0.541625 0.499875 0.54175  0.750125\n",
      " 0.458375 0.625   ]\n"
     ]
    }
   ],
   "source": [
    "#\n",
    "# Areas to work on - scores will be normalized by the number of aspects \n",
    "# Score will range from 0 to 1\n",
    "# The extra question is usually embedded in questions 6 and 7\n",
    "i_attri  = 0\n",
    "i_attrim = 7 \n",
    "warea_pref_list = []\n",
    "while i_attri <= i_attrim:\n",
    "    ind_index = mentee_index_list[9+i_attri] # to 16\n",
    "    mentee_pref = mentee_df[ind_index].tolist()\n",
    "    ind_index = mentor_index_list[7+i_attri] # to 14\n",
    "    mentor_pref = mentor_df[ind_index].tolist()\n",
    "    for mentee_dat in mentee_pref:\n",
    "        if mentee_dat == 'Not important at all': mentee_dat_int = 1\n",
    "        if mentee_dat == 'Somewhat important': mentee_dat_int = 2\n",
    "        if mentee_dat == 'Important': mentee_dat_int = 3\n",
    "        if mentee_dat == 'Extremely important': mentee_dat_int = 4\n",
    "        for mentor_dat in mentor_pref:\n",
    "            mentor_dat_int = int(mentor_dat)\n",
    "            diff_in_sele = math.fabs(mentee_dat_int - mentor_dat_int)\n",
    "            if diff_in_sele == 0.0: score = 1\n",
    "            elif diff_in_sele == 1.0: score = 0.667\n",
    "            elif diff_in_sele == 2.0: score = 0.333\n",
    "            else: score = 0 \n",
    "            warea_pref_list.append(score)\n",
    "            #print('%s ||| %s , diff :%s' % (mentee_dat_int, mentor_dat_int, diff_in_sele))\n",
    "    i_attri += 1\n",
    "warea_pref = np.array(warea_pref_list,dtype=float).reshape(-1,nmentees,nmentors)\n",
    "warea_pref_avg = np.average(warea_pref,axis=0)\n",
    "print(np.shape(warea_pref_avg))\n",
    "print(warea_pref_avg[:,3])"
   ]
  },
  {
   "cell_type": "code",
   "execution_count": 301,
   "metadata": {},
   "outputs": [
    {
     "name": "stdout",
     "output_type": "stream",
     "text": [
      "(34, 8)\n",
      "[0.33333333 0.66666667 0.33333333 0.33333333 0.33333333 0.66666667\n",
      " 0.33333333 0.33333333 0.66666667 0.33333333 0.33333333 0.33333333\n",
      " 0.33333333 0.66666667 0.66666667 0.66666667 0.         0.33333333\n",
      " 0.66666667 0.66666667 0.33333333 0.33333333 0.33333333 0.33333333\n",
      " 0.66666667 0.33333333 0.66666667 0.66666667 0.66666667 0.\n",
      " 0.66666667 0.33333333 0.33333333 0.33333333]\n"
     ]
    }
   ],
   "source": [
    "#\n",
    "# Personal goals matching - score can be all the way from 0 - 1 \n",
    "# matched in mentor / all selected by mentor\n",
    "# \n",
    "pgoal_index = mentee_index_list[18]\n",
    "mentee_pgoal = mentee_df[pgoal_index].tolist()\n",
    "pgoal_index = mentor_index_list[16]\n",
    "mentor_pgoal = mentor_df[pgoal_index].tolist()\n",
    "\n",
    "pgoal_scores_list = []\n",
    "for mentee_dat in mentee_pgoal:\n",
    "    for  mentor_dat in mentor_pgoal:\n",
    "        #print('%s ||| %s' % (mentee_dat, mentor_dat))\n",
    "        matched = 0\n",
    "        for mentee_item in mentee_dat.split(','):\n",
    "            for mentor_item in mentor_dat.split(','):\n",
    "                if mentee_item == mentor_item:\n",
    "                    matched += 1\n",
    "        tot_sele_mentor = len(mentor_dat.split(','))\n",
    "        score = float(matched)/tot_sele_mentor \n",
    "        pgoal_scores_list.append(score)\n",
    "pgoal_scores = np.array(pgoal_scores_list,dtype=float).reshape(nmentees,nmentors)\n",
    "print(np.shape(pgoal_scores))\n",
    "print(pgoal_scores[:,3])"
   ]
  },
  {
   "cell_type": "code",
   "execution_count": 302,
   "metadata": {},
   "outputs": [
    {
     "name": "stdout",
     "output_type": "stream",
     "text": [
      "(34, 8)\n",
      "[0. 0. 0. 0. 0. 1. 0. 0. 1. 1. 0. 0. 0. 0. 0. 0. 1. 0. 1. 1. 0. 0. 0. 1.\n",
      " 0. 0. 1. 1. 0. 0. 1. 1. 0. 0.]\n"
     ]
    }
   ],
   "source": [
    "#\n",
    "# location matching - score can be  0 / 1 \n",
    "# matched 1, not matched - 0\n",
    "# \n",
    "loc_index = mentee_index_list[-6]\n",
    "mentee_loc = mentee_df[loc_index].tolist()\n",
    "loc_index = mentor_index_list[-3]\n",
    "mentor_loc = mentor_df[loc_index].tolist()\n",
    "\n",
    "loc_scores_list = []\n",
    "for mentee_dat in mentee_loc:\n",
    "    for  mentor_dat in mentor_loc:\n",
    "        score = 0\n",
    "        #print('%s ||| %s ' % (mentee_dat, mentor_dat))\n",
    "        if mentee_dat == mentor_dat: score = 1\n",
    "        loc_scores_list.append(score)\n",
    "loc_scores = np.array(loc_scores_list,dtype=float).reshape(nmentees,nmentors)\n",
    "print(np.shape(loc_scores))\n",
    "print(loc_scores[:,3])"
   ]
  },
  {
   "cell_type": "code",
   "execution_count": 303,
   "metadata": {},
   "outputs": [
    {
     "name": "stdout",
     "output_type": "stream",
     "text": [
      "(34, 8)\n",
      "[[0.         0.33333333 0.33333333 0.         0.         0.\n",
      "  0.         0.        ]\n",
      " [0.         0.25       0.         0.         0.         0.\n",
      "  0.         0.        ]\n",
      " [0.25       0.25       0.         0.         0.         0.\n",
      "  0.         0.        ]]\n"
     ]
    }
   ],
   "source": [
    "#\n",
    "# Prefered mentor, just match by first name? total is 1 \n",
    "# 1 is separated to different mentors\n",
    "#\n",
    "mpref_index = mentee_index_list[-2]\n",
    "mentee_mpref = mentee_df[mpref_index].tolist()\n",
    "mentor_names_index = mentor_index_list[2]\n",
    "mentor_names = mentor_df[mentor_names_index].tolist()\n",
    "base_line_score = 1.0 / float(nmentors)\n",
    "\n",
    "match_score_list = []\n",
    "for mentee_dat in mentee_mpref:\n",
    "    sele_list = []\n",
    "    for sele in mentee_dat.split(','):\n",
    "        sele = sele.strip()\n",
    "        sele_list.append(sele)\n",
    "    mentee_selection = set(sele_list)\n",
    "    if \"I'm open to match with any mentors listed above\" in mentee_selection: \n",
    "        #print('%s ||| open' % (mentee_dat))\n",
    "        for mentor_name in mentor_names:\n",
    "            score = base_line_score\n",
    "            match_score_list.append(score)\n",
    "    else: # have selected prefered mentors\n",
    "        n_selected = len(sele_list)\n",
    "        new_base_line_score = 1.0/float(n_selected)\n",
    "        for mentor_name in mentor_names:\n",
    "            score = 0\n",
    "            for sele_name in sele_list:\n",
    "                first_name = sele_name.split()[0]\n",
    "                name_pattern = re.compile('^%s' % first_name)\n",
    "                match = name_pattern.search(mentor_name)\n",
    "                if (match):\n",
    "                    score = new_base_line_score\n",
    "            match_score_list.append(score)\n",
    "            #print('%s ||| %s ' % (mentee_dat,mentor_name))\n",
    "    #for mentor_name in mentor_names:\n",
    "    #    print('%s ||| %s ' % (mentee_dat,mentor_name))\n",
    "#print(mentor_names)\n",
    "match_score = np.array(match_score_list,dtype=float).reshape(nmentees,nmentors)\n",
    "print(np.shape(match_score))\n",
    "print(match_score[:3])"
   ]
  },
  {
   "cell_type": "code",
   "execution_count": 354,
   "metadata": {},
   "outputs": [],
   "source": [
    "## Assign weight to all the different metrix\n",
    "## 1. Work experience score (0,1)   - we_scores, weight = 0.2\n",
    "## 2. Industry matching score (0,1) - ind_scores, weight = 0.1\n",
    "## 3. Common areas to work on together (0,1) - warea_pref_avg, weight = 0.3 \n",
    "## 4. Personal goal match (0,1) - pgoal_scores, weight = 0.2\n",
    "## 5. Location preference match (0,1) - loc_scores, weight = 0.1 \n",
    "## 6. Favorite mentors (0,1) - match_score, weight = 0.1\n",
    "\n",
    "we_scores_wt      = 8\n",
    "ind_scores_wt     = 4\n",
    "warea_pref_avg_wt = 9\n",
    "pgoal_scores_wt   = 9\n",
    "loc_scores_wt     = 5\n",
    "match_score_wt    = 4\n",
    "\n",
    "total_score_matrix = we_scores*we_scores_wt + ind_scores*ind_scores_wt + warea_pref_avg* warea_pref_avg_wt +\\\n",
    "                     pgoal_scores*pgoal_scores_wt + loc_scores*loc_scores_wt + match_score*match_score_wt\n",
    "#print(total_score_matrix[:,3])"
   ]
  },
  {
   "cell_type": "code",
   "execution_count": 355,
   "metadata": {},
   "outputs": [
    {
     "name": "stdout",
     "output_type": "stream",
     "text": [
      "[ 9.95945833 17.58370833 14.41779167  8.250375   13.33520833 19.30870833\n",
      " 16.876125   16.84925   ]\n"
     ]
    }
   ],
   "source": [
    "print(total_score_matrix[0,:])"
   ]
  },
  {
   "cell_type": "code",
   "execution_count": 356,
   "metadata": {},
   "outputs": [],
   "source": [
    "##\n",
    "## Part II - ranking and matching\n",
    "##\n",
    "##"
   ]
  },
  {
   "cell_type": "code",
   "execution_count": 357,
   "metadata": {},
   "outputs": [
    {
     "name": "stdout",
     "output_type": "stream",
     "text": [
      "[ 9.95945833 17.58370833 14.41779167  8.250375   13.33520833 19.30870833\n",
      " 16.876125   16.84925   ]\n",
      "[[7 2 5 8 6 1 3 4]\n",
      " [4 6 7 8 5 1 3 2]\n",
      " [2 1 8 6 7 4 5 3]\n",
      " [2 5 6 8 7 3 4 1]\n",
      " [4 3 7 6 5 1 8 2]\n",
      " [2 1 7 3 5 6 8 4]\n",
      " [7 3 1 8 6 5 2 4]\n",
      " [5 4 7 6 3 1 8 2]\n",
      " [8 1 7 5 6 2 3 4]\n",
      " [5 1 7 4 8 3 6 2]\n",
      " [2 5 4 7 8 3 6 1]\n",
      " [4 6 2 8 3 5 1 7]\n",
      " [3 4 6 8 7 2 5 1]\n",
      " [2 3 7 4 6 5 8 1]\n",
      " [5 3 4 7 8 2 6 1]\n",
      " [3 2 6 8 8 4 5 1]\n",
      " [3 1 6 5 7 8 2 4]\n",
      " [3 4 8 7 5 2 6 1]\n",
      " [1 3 7 2 6 5 8 4]\n",
      " [7 1 3 6 8 5 2 4]\n",
      " [8 2 5 7 6 1 3 4]\n",
      " [6 3 5 8 4 2 7 1]\n",
      " [3 6 8 5 4 2 7 1]\n",
      " [2 1 6 3 5 8 4 7]\n",
      " [2 8 7 6 1 3 5 4]\n",
      " [6 4 2 8 7 5 1 3]\n",
      " [8 1 7 5 4 2 6 3]\n",
      " [6 2 8 3 5 1 7 4]\n",
      " [5 4 2 8 7 6 1 3]\n",
      " [6 1 5 8 7 4 3 2]\n",
      " [5 4 7 1 2 6 3 8]\n",
      " [7 1 6 4 8 2 5 3]\n",
      " [8 6 3 5 1 2 4 7]\n",
      " [2 4 7 8 5 3 6 1]]\n"
     ]
    }
   ],
   "source": [
    "## Convert the scoring matrix to ranking from 1 (best) to Nmax (worst)\n",
    "## \n",
    "## 1. mentor ranking by mentees\n",
    "mentor_rankings = np.zeros((nmentees,nmentors),dtype=int)\n",
    "for imentee in range(0,nmentees,1):\n",
    "    tmp_scores = total_score_matrix[imentee,:]\n",
    "    rank_tmp = np.argsort(tmp_scores)\n",
    "    sorted_list = []\n",
    "    for indx in rank_tmp:\n",
    "        score = total_score_matrix[imentee,indx]\n",
    "        sorted_list.append(score)\n",
    "    #print(sorted_list)\n",
    "    #print(tmp_scores)\n",
    "    i_ele = 0\n",
    "    for ele in tmp_scores:\n",
    "        ranking = len(sorted_list)-sorted_list.index(ele)\n",
    "        mentor_rankings[imentee,i_ele] = ranking\n",
    "        i_ele += 1\n",
    "print(total_score_matrix[0,:])\n",
    "print(mentor_rankings)\n"
   ]
  },
  {
   "cell_type": "code",
   "execution_count": 358,
   "metadata": {},
   "outputs": [
    {
     "name": "stdout",
     "output_type": "stream",
     "text": [
      "[ 9.95945833 18.16816667 21.5015     23.58408333 13.875375   25.0015\n",
      " 16.45758333 10.625375   13.000375   12.126875   24.29166667 19.87575\n",
      " 22.003      23.3765     15.9015     23.75       20.00075    18.750375\n",
      " 27.3765     14.4765      8.20983333 15.3515     27.875      23.91779167\n",
      " 29.751125   16.70870833  7.70833333 13.000375   17.851125   14.12575\n",
      " 20.49925    11.8765     14.249625   23.5015    ]\n",
      "[[32 28 24 33 25 24 19 29]\n",
      " [17 27 22 22  9  5 13 10]\n",
      " [12  5 18 11 11 20 16 18]\n",
      " [ 8 18 10 31 13  6  6  3]\n",
      " [26 31 31 21 23  3 34 13]\n",
      " [ 4  2 15  3 10 28 19 11]\n",
      " [20 13  1 19 14 27  3 25]\n",
      " [31 34 30 27 22 10 33 27]\n",
      " [28  8 21  8 17 11  9 22]\n",
      " [29  1 28 20 33 33 30 24]\n",
      " [ 5 21  7 10 12  8 15  8]\n",
      " [15 21  2 14  5 22  2 32]\n",
      " [11 30 20 23 24  7 20  2]\n",
      " [10 12  9  4  7 15 21  9]\n",
      " [21 16 13 18 31 14 24 15]\n",
      " [ 7  9 13 24 27 12 14  7]\n",
      " [14  7 11  7 15 34 10 19]\n",
      " [16 32 33 28 21 18 32 12]\n",
      " [ 3  6 26  1  6 13 27  6]\n",
      " [23 10  6 17 32 30  5 20]\n",
      " [33 24 16 29 29 17 17 28]\n",
      " [22 14 19 26 16  4 26  5]\n",
      " [ 2 25 23 10  2  1 23  1]\n",
      " [ 6  4  5  5  4 21 11 21]\n",
      " [ 1 30  8  6  1  2  8 14]\n",
      " [19 26  4 32 26 31  4 23]\n",
      " [34 19 29 15 19 19 31 31]\n",
      " [28 17 34 12 20 16 28 33]\n",
      " [18 23  3 25 28 29  1 17]\n",
      " [25 11 25 34 30 32 12 16]\n",
      " [13 15 17  2  3 26  7 30]\n",
      " [30  3 27 16 34 23 25 26]\n",
      " [24 33 14 13  8 25 22 34]\n",
      " [ 9 22 32 31 18  9 29  4]]\n"
     ]
    }
   ],
   "source": [
    "## 2. mentee ranking by mentors\n",
    "mentee_rankings = np.zeros((nmentees,nmentors),dtype=int)\n",
    "for imentor in range(0,nmentors,1):\n",
    "    tmp_scores = total_score_matrix[:,imentor]\n",
    "    rank_tmp = np.argsort(tmp_scores)\n",
    "    sorted_list = []\n",
    "    for indx in rank_tmp:\n",
    "        score = total_score_matrix[indx,imentor]\n",
    "        sorted_list.append(score)\n",
    "\n",
    "    i_ele = 0\n",
    "    for ele in tmp_scores:\n",
    "        ranking = len(sorted_list) - sorted_list.index(ele)\n",
    "        mentee_rankings[i_ele,imentor] = ranking\n",
    "        i_ele += 1\n",
    "print(total_score_matrix[:,0])\n",
    "print(mentee_rankings)\n",
    "\n"
   ]
  },
  {
   "cell_type": "code",
   "execution_count": 359,
   "metadata": {},
   "outputs": [
    {
     "name": "stdout",
     "output_type": "stream",
     "text": [
      "[-99 -99 -99 -99   5   1   2 -99 -99   1   0   6   7   3 -99 -99 -99 -99\n",
      "   0 -99 -99   5   7   4   4   2 -99 -99   6 -99   3 -99 -99 -99] [[18 10]\n",
      " [ 5  9]\n",
      " [ 6 25]\n",
      " [30 13]\n",
      " [24 23]\n",
      " [21  4]\n",
      " [11 28]\n",
      " [22 12]]\n"
     ]
    }
   ],
   "source": [
    "## Matching\n",
    "\n",
    "def Matching(mentee_rankings,mentor_rankings,nslots,icyclem):\n",
    "    # mentee_rankings - mentees ranked by mentors (Nmentee x Nmentor) \n",
    "    # mentor_rankings - mentors ranked by mentees (Nmentee x Nmentor)\n",
    "    # nslots - how many mentees a mentor can have\n",
    "    # icyclem - how many cycles you want to run, usually 500-1000 cycles will ensure convergence  \n",
    "    Nmentee, Nmentor = np.shape(mentor_rankings)\n",
    "    \n",
    "    def SeatAvail(imr,mentor_assigned):\n",
    "        # return first available seat of a mentor - id of slot\n",
    "        # if avail_seat == -99, then no available seats\n",
    "        # avail = 1 - the seat is empty\n",
    "        # ipos      - the index of the seat\n",
    "        avail_seat = -99\n",
    "        tmp = mentor_assigned[imr,:]\n",
    "        ipos = 0\n",
    "        for ele in tmp:\n",
    "            if ele == -99:\n",
    "                avail_seat = ipos\n",
    "                break\n",
    "            ipos += 1\n",
    "        return avail_seat\n",
    "    \n",
    "    mentee_assigned  = np.zeros(Nmentee,dtype=int) # slots to hold if a mentee has been assigned 0 unassigned / 1 assigned\n",
    "    mentor_assigned  = np.zeros((Nmentor,nslots),dtype=int) # same as above\n",
    "    old_mentee_assigned = np.zeros(Nmentee,dtype=int)\n",
    "    old_mentor_assigned = np.zeros(Nmentor,dtype=int)\n",
    "    \n",
    "    #initialize for these to have a value of -99\n",
    "    for i in range(0,Nmentee,1):\n",
    "        mentee_assigned[i] = -99\n",
    "    for i in range(0,Nmentor,1):\n",
    "        for j in range(0,nslots,1):\n",
    "            mentor_assigned[i,j] = -99\n",
    "    \n",
    "    # randomize the mentee id list\n",
    "    # to show that the matching is robust and doesn't depend on the order of the mentees\n",
    "    mentee_list = list(range(0,Nmentee,1))\n",
    "    random.shuffle(mentee_list)\n",
    "    icycle = 0\n",
    "    #itolm = 10 # if for 10 consecutive times, the returned assigned arrays are the same, then stop\n",
    "    #itol = 0\n",
    "    for imt in mentee_list:\n",
    "        \n",
    "        mr_ranking = mentor_rankings[imt,:]\n",
    "        imatch = 0  # index used to track 1st,2nd,3rd.. mentors to match to this mentee \n",
    "        imr_matched = np.argsort(mr_ranking)[imatch]\n",
    "        avail_seat = SeatAvail(imr_matched, mentor_assigned)\n",
    "        #print('current mentee: %s, to be matched mentor: %s, avail seat %s' % (imt,imr_matched,avail_seat))\n",
    "        filled = 0 # see if this mentee kicks off any already filled mentees \n",
    "        if avail_seat == -99: # all seats from this mentor are taken\n",
    "            # See if this mentee ranks better than the other mentees already in this mentors seat list\n",
    "            #print(imr_matched, imt)\n",
    "            curr_mt_rank = mentee_rankings[imt,imr_matched]\n",
    "            #print('mentor_id: %s , mentor seats: %s' % (imr_matched,mentor_assigned[imr_matched,:]))\n",
    "            \n",
    "            # find the mentee rankings for the current mentor seats\n",
    "            reversed_rankings = np.argsort(mentor_assigned[imr_matched,:])[::-1]\n",
    "            for ipos in reversed_rankings: # kick off the worst first\n",
    "                tmp_imt = mentor_assigned[imr_matched,ipos]\n",
    "                tmp_mt_rank = mentee_rankings[tmp_imt,imr_matched]\n",
    "                #print (tmp_imt,tmp_mt_rank)\n",
    "                if tmp_mt_rank > curr_mt_rank: # the already filled one is not as good as the curr one\n",
    "                    mentor_assigned[imr_matched,ipos] = imt\n",
    "                    mentee_assigned[imt] = imr_matched\n",
    "                    filled = 1\n",
    "                    # kick this ousted mentee to the end of the mentee list\n",
    "                    mentee_assigned[tmp_imt] = -99\n",
    "                    mentee_list.append(tmp_imt)\n",
    "                    break\n",
    "            if filled == 0: # Still not filled\n",
    "                # Try the 2nd/3rd/4th ... down the mentor ranking list by set the current mentor rank to 99\n",
    "                mentor_rankings[imt,imr_matched] = 999\n",
    "                mentee_assigned[imt] = -99\n",
    "                mentee_list.append(imt)\n",
    "        else:\n",
    "            mentor_assigned[imr_matched,avail_seat] = imt\n",
    "            mentee_assigned[imt] = imr_matched\n",
    "            \n",
    "        #if (mentee_assigned==old_mentee_assigned).all() and (mentor_assigned==old_mentor_assigned).all():\n",
    "        #    print(\"yes %s\" % itol)\n",
    "        #    itol += 1\n",
    "        #    if itol > itolm:\n",
    "        #        print(icycle)\n",
    "        #        break\n",
    "        #itol = 0\n",
    "        #old_mentee_assigned = mentee_assigned\n",
    "        #old_mentor_assigned = mentor_assigned\n",
    "        \n",
    "        if icycle == icyclem : break\n",
    "        icycle += 1\n",
    "        \n",
    "    return mentee_assigned, mentor_assigned\n",
    "    \n",
    "mentee_assigned, mentor_assigned = Matching(mentee_rankings,mentor_rankings,2,1000)\n",
    "print(mentee_assigned, mentor_assigned)"
   ]
  },
  {
   "cell_type": "code",
   "execution_count": 360,
   "metadata": {},
   "outputs": [
    {
     "name": "stdout",
     "output_type": "stream",
     "text": [
      "ERIN BRENNER, N/A\n",
      "Ryanne Boursiquot, N/A\n",
      "Fernanda White, N/A\n",
      "Massami Laird, N/A\n",
      "Jiyeong (Jean) Chun, Jeff Lou\n",
      "Lori Siedman, Robin Rose\n",
      "LUCIANA CALVIN, Susu Wong\n",
      "Cristina Watson, N/A\n",
      "Lisa Scudder, N/A\n",
      "Sandra Mohr, Robin Rose\n",
      "Masami Kelly, Dennis A Dean\n",
      "Debbi Mallinson, Franky Descoteaux\n",
      "Nitya Durvasula, Uma Staehler\n",
      "Yamin Htet, Nidhi J. Maniar\n",
      "Yesim Mercan, N/A\n",
      "Angie Greer, N/A\n",
      "Rosemery Membreno, N/A\n",
      "Alia Braley, N/A\n",
      "Andrea Koenigsberg, Dennis A Dean\n",
      "Sanghamitra Mohanty-Banerjee, N/A\n",
      "Dharmajyoti kothapalli, N/A\n",
      "Rebecca Caira-Davila, Jeff Lou\n",
      "HIROMI HIROYAMA, Uma Staehler\n",
      "Tatiana Tompkins, Cindy Huang\n",
      "Hannah Schindler, Cindy Huang\n",
      "Autumn Minery , Susu Wong\n",
      "Penelope Hamourgas, N/A\n",
      "Patricia Tangney, N/A\n",
      "Ann Marie Carmichael, Franky Descoteaux\n",
      "Kristy Louie, N/A\n",
      "Sophie Parker, Nidhi J. Maniar\n",
      "TATIANA FESENKO, N/A\n",
      "Anya Shapina, N/A\n",
      "Mahsa Ershadi, N/A\n"
     ]
    }
   ],
   "source": [
    "mentee_name_id = mentee_index_list[1]\n",
    "mentor_name_id = mentor_index_list[2]\n",
    "mentee_name_list = mentee_df[mentee_name_id].tolist()\n",
    "mentor_name_list = mentor_df[mentor_name_id].tolist()\n",
    "\n",
    "\n",
    "fout = open('matching_bymentee.csv','w')\n",
    "fout.write('Mentee Name, Mentor Name\\n')\n",
    "for i in range(0,len(mentee_assigned),1):\n",
    "    mentee_name = mentee_name_list[i]\n",
    "    mentor_id   = mentee_assigned[i]\n",
    "    if mentor_id == -99: mentor_name = 'N/A'\n",
    "    else:\n",
    "        mentor_name = mentor_name_list[mentor_id]    \n",
    "    fout.write('%s,%s\\n' % (mentee_name,mentor_name))\n",
    "    print('%s, %s' % (mentee_name,mentor_name))\n",
    "fout.close()\n",
    "\n",
    "fout = open('matching_bymentor.csv','w')\n",
    "fout.write('Mentor Name, Mentee Name1, Mentee Name2\\n')\n",
    "nrow,ncol = np.shape(mentor_assigned)\n",
    "for i in range(0,nrow,1):\n",
    "    mentor_name  = mentor_name_list[i]\n",
    "    mentee1_id   = mentor_assigned[i,0]\n",
    "    mentee2_id   = mentor_assigned[i,1]\n",
    "    mentee1_name = mentee_name_list[mentee1_id]\n",
    "    mentee2_name = mentee_name_list[mentee2_id]\n",
    "    fout.write('%s,%s,%s\\n' % (mentor_name,mentee1_name,mentee2_name))\n",
    "fout.close()\n",
    "\n"
   ]
  },
  {
   "cell_type": "code",
   "execution_count": null,
   "metadata": {},
   "outputs": [],
   "source": []
  },
  {
   "cell_type": "code",
   "execution_count": null,
   "metadata": {},
   "outputs": [],
   "source": []
  }
 ],
 "metadata": {
  "kernelspec": {
   "display_name": "Python 3",
   "language": "python",
   "name": "python3"
  },
  "language_info": {
   "codemirror_mode": {
    "name": "ipython",
    "version": 3
   },
   "file_extension": ".py",
   "mimetype": "text/x-python",
   "name": "python",
   "nbconvert_exporter": "python",
   "pygments_lexer": "ipython3",
   "version": "3.7.2"
  }
 },
 "nbformat": 4,
 "nbformat_minor": 2
}
